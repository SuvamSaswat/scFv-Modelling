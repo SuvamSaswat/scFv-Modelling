{
 "cells": [
  {
   "cell_type": "code",
   "execution_count": 1,
   "metadata": {},
   "outputs": [
    {
     "data": {
      "text/plain": [
       "<contextlib.ExitStack at 0x15a70632290>"
      ]
     },
     "execution_count": 1,
     "metadata": {},
     "output_type": "execute_result"
    }
   ],
   "source": [
    "from prody import *\n",
    "from pylab import *\n",
    "ion()\n"
   ]
  },
  {
   "cell_type": "code",
   "execution_count": 2,
   "metadata": {},
   "outputs": [
    {
     "name": "stderr",
     "output_type": "stream",
     "text": [
      "@> 4281 atoms and 1 coordinate set(s) were parsed in 0.15s.\n",
      "@> 4281 atoms and 1 coordinate set(s) were parsed in 0.16s.\n",
      "@> 4277 atoms and 1 coordinate set(s) were parsed in 0.29s.\n",
      "@> 1769 atoms and 1 coordinate set(s) were parsed in 0.07s.\n",
      "@> 1733 atoms and 1 coordinate set(s) were parsed in 0.07s.\n",
      "@> 2201 atoms and 1 coordinate set(s) were parsed in 0.07s.\n"
     ]
    }
   ],
   "source": [
    "alphafoldnotemp = parsePDB('alphafoldnotemp.pdb')\n",
    "alphafoldpdb = parsePDB('alphafoldpdb.pdb')\n",
    "itasser = parsePDB('itasser.pdb')\n",
    "swiss1 = parsePDB('swiss1.pdb')\n",
    "swiss2 = parsePDB('swiss2.pdb')\n",
    "modeller = parsePDB('modeller.pdb')"
   ]
  },
  {
   "cell_type": "code",
   "execution_count": 20,
   "metadata": {},
   "outputs": [
    {
     "name": "stderr",
     "output_type": "stream",
     "text": [
      "@> Checking AtomGroup alphafoldpdb: 1 chains are identified\n",
      "@> Checking AtomGroup alphafoldnotemp: 1 chains are identified\n",
      "@> Trying to match chains based on residue numbers and names:\n",
      "@>   Comparing Chain A from alphafoldpdb (len=293) and Chain A from alphafoldnotemp (len=293):\n",
      "@> \tMatch: 293 residues match with 100% sequence identity and 100% overlap.\n",
      "@> WARNING mobile is an AtomMap instance, consider assign weights=mobile.getFlags(\"mapped\") if there are dummy atoms in mobile\n",
      "@> WARNING target is an AtomMap instance, consider assign weights=target.getFlags(\"mapped\") if there are dummy atoms in target\n"
     ]
    },
    {
     "data": {
      "text/plain": [
       "1.5289571554747914"
      ]
     },
     "execution_count": 20,
     "metadata": {},
     "output_type": "execute_result"
    }
   ],
   "source": [
    "# AlphaFoldPDB vs AlphaFoldNoTemp\n",
    "chain1, chain2, seqid, overlap = matchChains(alphafoldpdb, alphafoldnotemp)[0]\n",
    "chain2, transformation = superpose(chain2, chain1)\n",
    "calcRMSD(chain1, chain2)"
   ]
  },
  {
   "cell_type": "code",
   "execution_count": 21,
   "metadata": {},
   "outputs": [
    {
     "name": "stderr",
     "output_type": "stream",
     "text": [
      "@> Checking AtomGroup alphafoldpdb: 1 chains are identified\n",
      "@> Checking AtomGroup itasser: 1 chains are identified\n",
      "@> Trying to match chains based on residue numbers and names:\n",
      "@>   Comparing Chain A from alphafoldpdb (len=293) and Chain A from itasser (len=293):\n",
      "@> \tMatch: 293 residues match with 100% sequence identity and 100% overlap.\n",
      "@> WARNING mobile is an AtomMap instance, consider assign weights=mobile.getFlags(\"mapped\") if there are dummy atoms in mobile\n",
      "@> WARNING target is an AtomMap instance, consider assign weights=target.getFlags(\"mapped\") if there are dummy atoms in target\n"
     ]
    },
    {
     "data": {
      "text/plain": [
       "12.166520167340996"
      ]
     },
     "execution_count": 21,
     "metadata": {},
     "output_type": "execute_result"
    }
   ],
   "source": [
    "# AlphaFoldPDB vs ITASSER\n",
    "chain1, chain2, seqid, overlap = matchChains(alphafoldpdb, itasser)[0]\n",
    "chain2, transformation = superpose(chain2, chain1)\n",
    "calcRMSD(chain1, chain2)"
   ]
  },
  {
   "cell_type": "code",
   "execution_count": 22,
   "metadata": {},
   "outputs": [
    {
     "name": "stderr",
     "output_type": "stream",
     "text": [
      "@> Checking AtomGroup itasser: 1 chains are identified\n",
      "@> Checking AtomGroup alphafoldnotemp: 1 chains are identified\n",
      "@> Trying to match chains based on residue numbers and names:\n",
      "@>   Comparing Chain A from itasser (len=293) and Chain A from alphafoldnotemp (len=293):\n",
      "@> \tMatch: 293 residues match with 100% sequence identity and 100% overlap.\n",
      "@> WARNING mobile is an AtomMap instance, consider assign weights=mobile.getFlags(\"mapped\") if there are dummy atoms in mobile\n",
      "@> WARNING target is an AtomMap instance, consider assign weights=target.getFlags(\"mapped\") if there are dummy atoms in target\n"
     ]
    },
    {
     "data": {
      "text/plain": [
       "12.568941903121084"
      ]
     },
     "execution_count": 22,
     "metadata": {},
     "output_type": "execute_result"
    }
   ],
   "source": [
    "# ITASSER vs AlphaFoldNoTemp\n",
    "chain1, chain2, seqid, overlap = matchChains(itasser, alphafoldnotemp)[0]\n",
    "chain2, transformation = superpose(chain2, chain1)\n",
    "calcRMSD(chain1, chain2)"
   ]
  }
 ],
 "metadata": {
  "kernelspec": {
   "display_name": "Python 3",
   "language": "python",
   "name": "python3"
  },
  "language_info": {
   "codemirror_mode": {
    "name": "ipython",
    "version": 3
   },
   "file_extension": ".py",
   "mimetype": "text/x-python",
   "name": "python",
   "nbconvert_exporter": "python",
   "pygments_lexer": "ipython3",
   "version": "3.11.3"
  },
  "orig_nbformat": 4
 },
 "nbformat": 4,
 "nbformat_minor": 2
}
